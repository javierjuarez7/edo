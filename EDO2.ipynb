{
 "cells": [
  {
   "cell_type": "markdown",
   "metadata": {},
   "source": [
    "Resolver:\n",
    "\n",
    "$$\n",
    "\\frac{dx}{dt}-tx=3t\n",
    "$$"
   ]
  },
  {
   "cell_type": "code",
   "execution_count": 1,
   "metadata": {},
   "outputs": [
    {
     "data": {
      "text/latex": [
       "$$x{\\left (t \\right )} = C_{1} e^{\\frac{t^{2}}{2}} - 3$$"
      ],
      "text/plain": [
       "            2    \n",
       "           t     \n",
       "           ──    \n",
       "           2     \n",
       "x(t) = C₁⋅ℯ   - 3"
      ]
     },
     "execution_count": 1,
     "metadata": {},
     "output_type": "execute_result"
    }
   ],
   "source": [
    "import sympy\n",
    "sympy.init_printing(use_latex='mathjax')\n",
    "t=sympy.Symbol('t')\n",
    "x=sympy.Function('x')\n",
    "f=3*t + t*(x(t))\n",
    "sol=sympy.dsolve(x(t).diff(t)-f)\n",
    "sol"
   ]
  },
  {
   "cell_type": "markdown",
   "metadata": {},
   "source": [
    "Una pequeña forma de resolver integrales"
   ]
  },
  {
   "cell_type": "code",
   "execution_count": 2,
   "metadata": {},
   "outputs": [
    {
     "data": {
      "image/png": "[encoded data removed]",
      "text/latex": [
       "$$- \\frac{25 \\cos{\\left (25 \\right )} \\Gamma\\left(\\frac{5}{4}\\right)}{8 \\Gamma\\left(\\frac{9}{4}\\right)} + \\frac{5 \\sqrt{2} \\sqrt{\\pi} C\\left(\\frac{5 \\sqrt{2}}{\\sqrt{\\pi}}\\right) \\Gamma\\left(\\frac{5}{4}\\right)}{16 \\Gamma\\left(\\frac{9}{4}\\right)}$$"
      ],
      "text/plain": [
       "                                      ⎛5⋅√2⎞       \n",
       "                      5⋅√2⋅√π⋅fresnelc⎜────⎟⋅Γ(5/4)\n",
       "  25⋅cos(25)⋅Γ(5/4)                   ⎝ √π ⎠       \n",
       "- ───────────────── + ─────────────────────────────\n",
       "       8⋅Γ(9/4)                 16⋅Γ(9/4)          "
      ]
     },
     "execution_count": 2,
     "metadata": {},
     "output_type": "execute_result"
    }
   ],
   "source": [
    "#para resolver integral\n",
    "\n",
    "import sympy as sp\n",
    "from sympy import*\n",
    "#para que imprima en formato latex\n",
    "sp.init_printing() \n",
    "\n",
    "x=Symbol('x')\n",
    "f=x**2*sp.sin(x**2)\n",
    "g=sp.integrate(f,(x,0,5))\n",
    "g"
   ]
  },
  {
   "cell_type": "markdown",
   "metadata": {},
   "source": [
    "Método de la serie de Taylor\n",
    "\n",
    "Dada la ecuación diferencial de primer orden con la condición en el inicio:\n",
    "\n",
    "$$\n",
    "y'(x)=f(x,y)\n",
    "\\\\\n",
    "y(x0)=y0\n",
    "$$\n",
    "\n",
    "El desarrollo de la Serie de Taylor se usa para obtener puntos de la solución a una distancia elegida h, a partir de la condicion inicial conocida y para estimar el error de truncamiento. "
   ]
  },
  {
   "cell_type": "code",
   "execution_count": 3,
   "metadata": {},
   "outputs": [
    {
     "data": {
      "image/png": "[encoded data removed]",
      "text/plain": [
       "<Figure size 432x288 with 1 Axes>"
      ]
     },
     "metadata": {
      "needs_background": "light"
     },
     "output_type": "display_data"
    }
   ],
   "source": [
    "%matplotlib inline\n",
    "import matplotlib.pyplot as plt\n",
    "import numpy as np\n",
    "import sympy as sp\n",
    "\n",
    "def y(x):\n",
    "    return np.exp(x)+x**2+x\n",
    "x=np.arange(0.0,1.0,0.1)\n",
    "plt.plot(x,y(x),'r',[0.1,0.2],[1.2152,1.4614],'bo')\n",
    "plt.show()"
   ]
  },
  {
   "cell_type": "code",
   "execution_count": null,
   "metadata": {},
   "outputs": [],
   "source": [
    "#Calcular la serie de Taylor para darle una solucion a una EDO de primer orden\n",
    "import numpy as np\n",
    "#m es la cantidad de puntos\n",
    "def taylor3(f,df,x,y,h,m):\n",
    "    u=np.zeros([m,2])  \n",
    "    for i in range(m):\n",
    "        y=y+h*f(x,y)+h**2/2*df(x,y)\n",
    "        x=x+h\n",
    "        u[i,0]=x\n",
    "        u[i,1]=y\n",
    "    return u\n",
    "        "
   ]
  }
 ],
 "metadata": {
  "kernelspec": {
   "display_name": "Python 3",
   "language": "python",
   "name": "python3"
  },
  "language_info": {
   "codemirror_mode": {
    "name": "ipython",
    "version": 3
   },
   "file_extension": ".py",
   "mimetype": "text/x-python",
   "name": "python",
   "nbconvert_exporter": "python",
   "pygments_lexer": "ipython3",
   "version": "3.6.6"
  }
 },
 "nbformat": 4,
 "nbformat_minor": 2
}
