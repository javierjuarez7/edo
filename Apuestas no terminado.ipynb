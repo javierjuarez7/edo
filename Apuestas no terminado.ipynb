{
 "cells": [
  {
   "cell_type": "code",
   "execution_count": null,
   "metadata": {},
   "outputs": [],
   "source": [
    "import random\n",
    "from matplotlib import pyplot\n",
    "import matplotlib.pyplot as plt\n",
    "\n",
    "\n",
    "def generador():\n",
    "    num = random.randint(1,100)\n",
    "    return num\n",
    "\n",
    "def juego():\n",
    "    dinero = 1000\n",
    "    for i in range (1,veces+1):\n",
    "        num=generador()\n",
    "    if num>50:\n",
    "        dinero = dinero + apuesta\n",
    "        graficodinero.append(dinero)\n",
    "        intentos.append(i)\n",
    "        print ('Has ganado', apuesta, 'pesos')\n",
    "        print ('Ahora tienes', dinero, 'pesos')\n",
    "    else:\n",
    "        dinero = dinero - apuesta\n",
    "        graficodinero.append(dinero)\n",
    "        intentos.append(i)\n",
    "        if dinero < 0:\n",
    "            print ('Has perdido', apuesta, 'pesos')\n",
    "            print ('Ahora tienes', dinero, 'pesos')\n",
    "            \n",
    "        else:\n",
    "            print ('Has perdido', apuesta, 'pesos')\n",
    "            print ('Ahora tienes', dinero, 'pesos')\n",
    "            print ('La apuesta se ha duplicado')\n",
    "            apuesta = 2*apuesta\n",
    "\n",
    "\n",
    "     \n",
    "    if dinero > 0:\n",
    "        print ('Apostador', k, 'Después de', veces, 'juegos, has terminado con' , dinero, 'pesos')\n",
    "    else:\n",
    "        print ('Apostador', k, 'Después de', i, 'intentos, te has quedado sin dinero, lo siento')\n",
    "        \n",
    "    plt.plot(intentos, graficodinero)\n",
    "\n",
    "print ('Hola, bienvenidos al casino. Comienzan con 1000 pesos')\n",
    "apostadores = int(input('¿Cuántas personas van a apostar?'))\n",
    "apuesta = int(input('¿Cuánto dinero quieren apostar? '))\n",
    "veces = int(input('¿Cuántas veces quieren apostar? '))\n",
    "graficodinero = [1000]\n",
    "intentos = [0]\n",
    "\n",
    "for k in range (1, apostadores+1):\n",
    "    juego()\n",
    "\n",
    "    \n",
    "print ('Gracias por jugar al Casino')"
   ]
  },
  {
   "cell_type": "code",
   "execution_count": null,
   "metadata": {},
   "outputs": [],
   "source": []
  }
 ],
 "metadata": {
  "kernelspec": {
   "display_name": "Python 3",
   "language": "python",
   "name": "python3"
  },
  "language_info": {
   "codemirror_mode": {
    "name": "ipython",
    "version": 3
   },
   "file_extension": ".py",
   "mimetype": "text/x-python",
   "name": "python",
   "nbconvert_exporter": "python",
   "pygments_lexer": "ipython3",
   "version": "3.6.6"
  }
 },
 "nbformat": 4,
 "nbformat_minor": 2
}
