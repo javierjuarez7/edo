{
 "cells": [
  {
   "cell_type": "code",
   "execution_count": null,
   "metadata": {},
   "outputs": [],
   "source": []
  },
  {
   "cell_type": "markdown",
   "metadata": {},
   "source": [
    "# Ecuaciones Diferenciales con Python}\n",
    "Javier Juarez Jimenez\n",
    "\n",
    "¿Qué es una ecuación diferencial?\n",
    "\n",
    "Una ecuación diferencial es una ecuación que involucra una variable dependiente y sus derivadas con respecto a una o más variables independientes. Muchas de las leyes de la naturaleza encuentran la forma más natural de ser expresadas en el lenguaje de las ecuaciones diferenciales.\n",
    "\n",
    "Si recordamos que $y=f(x)$ es una función, entonces su derivada $dy/dx$ es la razón de cambio de y respecto de x. \n",
    "\n",
    "Recordando la segunda ley de Newtion, la aceleracion de un cuerpo de masa m es proporcional a la fuerza total F que actua sobre él.\n",
    "$$\n",
    "F=ma\n",
    "$$\n",
    "\n",
    "Si $u$ es la posición del cuerpo, su segunda derivada con respecto al tiempo es la aceleración. Entonces la segunda ley de Newton se puede escribir así:\n",
    "\n",
    "$$\n",
    "F=m\\frac{d²u}{dt²}\n",
    "$$\n",
    "\n",
    "De esta manera, estamos expresando a la segunda ley de Newton en función de la posición del objeto. \n",
    "\n",
    "El orden de una ecuación diferencial va a ser igual al orden de la mayor derivada presente. La ecuacion de la segunda ley de Newton es de segundo orden. \n",
    "\n",
    "La más simple de todas las ecuaciones diferenciales ordinarias de primer orden es:\n",
    "\n",
    "$$\n",
    "\\frac{dy}{dx}=f(x)\n",
    "$$\n",
    "\n",
    "Para resolver integramos de ambos lados\n",
    "\n",
    "Ecuacion diferencial separable\n",
    "\n",
    "Una ecuacion diferencial separable es una ecuacion diferencial de primer orden en la que la expresion para $dx/dy$ se puede factorizar como una funcion de x multiplicada por una funcion de y. \n",
    "\n",
    "$$\n",
    "\\frac{dy}{dx}=f(x)g(y)\n",
    "$$\n",
    "\n",
    "$$\n",
    "\\frac{dy}{g(y)}=f(x)dx\n",
    "$$\n",
    "\n",
    "Y podemos resolver la ecuacion diferencial integrando\n",
    "\n",
    "$$\n",
    "\\int \\frac{dy}{g(y)}=\\int f(x)dx+c\n",
    "$$\n",
    "\n",
    "\n",
    "Una ecuacion diferencial lineal puede ser resuelta de forma analitica ya que su ecuacion diferencial de primer orden tiene la forma:\n",
    "\n",
    "$$\n",
    "\\frac{dy}{dx} + P(x)y= Q(x)\n",
    "$$\n",
    "\n",
    "Donde P y Q son funciones continuas de x en un intervalo. Para resolver ecuaciones de esa forma multiplicar los dos lados de la ecuacion por el factor de integracion.\n",
    "\n",
    "Normalmente al resolver ecuaciones diferenciales no nos interesa encontrar una familia de soluciones, sino la que satisfaga un requerimiento particular, una condicion de la forma $y(t0)=y0$ A esto se le conoce como el problema de valor inicial. \n",
    "\n",
    "Series de potencias\n",
    "\n",
    "Algunas ec.dif no pueden ser resueltas de manera analitica usando calculo diferencial e integral, pero podemos encontrar aproximaciones de las ecuaciones en términos de series de potencias. \n",
    "\n",
    "\n",
    "\n",
    "Soluciones analiticas con Python \n",
    "\n",
    "SymPy proporciona un solucionador generico de ecuaciones diferenciales ordinarias. Con sympy.dsolve encuentra soluciones analiticas. \n",
    "\n",
    "Resolver: \n",
    "\n",
    "$$\n",
    "\\frac{dy}{dx}=-3x^2y+6x^2\n",
    "$$"
   ]
  },
  {
   "cell_type": "code",
   "execution_count": 1,
   "metadata": {},
   "outputs": [
    {
     "data": {
      "text/latex": [
       "$$y{\\left (x \\right )} = C_{1} e^{- x^{3}} + 2$$"
      ],
      "text/plain": [
       "             3    \n",
       "           -x     \n",
       "y(x) = C₁⋅ℯ    + 2"
      ]
     },
     "execution_count": 1,
     "metadata": {},
     "output_type": "execute_result"
    }
   ],
   "source": [
    "import matplotlib.pyplot as plt\n",
    "import numpy as np\n",
    "import sympy\n",
    "\n",
    "\n",
    "#imprimir con notacion matematica\n",
    "sympy.init_printing(use_latex='mathjax')\n",
    "\n",
    "#resolviendo ecuacion diferencial\n",
    "#defino las incognitas\n",
    "x=sympy.Symbol('x')\n",
    "y=sympy.Function('y')\n",
    "\n",
    "#expreso la ecuacion\n",
    "f=6*x**2-3*x**2*(y(x))\n",
    "sympy.Eq(y(x).diff(x), f)\n",
    "\n",
    "#Resolviendo la ecuacion\n",
    "sympy.dsolve(y(x).diff(x)-f)"
   ]
  },
  {
   "cell_type": "markdown",
   "metadata": {},
   "source": [
    "Ahora resolvamos el problema de valores iniciales\n",
    "\n",
    "$$\n",
    "\\frac{dy}{dx} = \\frac{1}{2}(y^2-1)\n",
    "\\\\\n",
    "y(0)=2\n",
    "$$\n",
    "\n"
   ]
  },
  {
   "cell_type": "code",
   "execution_count": 6,
   "metadata": {},
   "outputs": [
    {
     "data": {
      "text/latex": [
       "$$y{\\left (x \\right )} = \\frac{1}{\\tanh{\\left (C_{1} - \\frac{x}{2} \\right )}}$$"
      ],
      "text/plain": [
       "            1      \n",
       "y(x) = ────────────\n",
       "           ⎛     x⎞\n",
       "       tanh⎜C₁ - ─⎟\n",
       "           ⎝     2⎠"
      ]
     },
     "execution_count": 6,
     "metadata": {},
     "output_type": "execute_result"
    }
   ],
   "source": [
    "import matplotlib.pyplot as plt\n",
    "import numpy as np\n",
    "import sympy\n",
    "\n",
    "#imprimir con notacion matematica\n",
    "sympy.init_printing(use_latex='mathjax')\n",
    "\n",
    "#resolviendo ecuacion diferencial\n",
    "#defino las incognitas\n",
    "x=sympy.Symbol('x')\n",
    "y=sympy.Function('y')\n",
    "\n",
    "#expreso la ecuacion\n",
    "f=(y(x)**2-1)/2\n",
    "sympy.Eq(y(x).diff(x),f)\n",
    "sympy.dsolve(y(x).diff(x)-f)\n"
   ]
  },
  {
   "cell_type": "code",
   "execution_count": null,
   "metadata": {},
   "outputs": [],
   "source": []
  }
 ],
 "metadata": {
  "kernelspec": {
   "display_name": "Python 3",
   "language": "python",
   "name": "python3"
  },
  "language_info": {
   "codemirror_mode": {
    "name": "ipython",
    "version": 3
   },
   "file_extension": ".py",
   "mimetype": "text/x-python",
   "name": "python",
   "nbconvert_exporter": "python",
   "pygments_lexer": "ipython3",
   "version": "3.6.5"
  }
 },
 "nbformat": 4,
 "nbformat_minor": 2
}
